{
 "cells": [
  {
   "cell_type": "markdown",
   "metadata": {},
   "source": [
    "<img src=\"//via.placeholder.com/100x150?text=Book+Cover\" style=\"float: left; width: 100px; margin-right: 24px;\" />\n",
    "\n",
    "# Project Name\n",
    "Short book summary or description. Update the book cover url as well. Link to the original content may also be useful."
   ]
  },
  {
   "cell_type": "markdown",
   "metadata": {},
   "source": [
    "## Pre-processing\n",
    "This section should handle any pre-processing needed to load the data into state. For example, unpacking epubs, loading multiple html pages, or even downloading files from a separate server."
   ]
  },
  {
   "cell_type": "code",
   "execution_count": null,
   "metadata": {},
   "outputs": [],
   "source": []
  },
  {
   "cell_type": "markdown",
   "metadata": {},
   "source": [
    "## Level 1 Processing\n",
    "This section should perform all the necessary level 1 processing. Level 1 includes parsing a book into Parts, Chapters, and Paragraphs. It also includes parsing images and identifying where the image occurs in the text. For example, chapter image or after paragraph 3."
   ]
  },
  {
   "cell_type": "code",
   "execution_count": null,
   "metadata": {},
   "outputs": [],
   "source": []
  },
  {
   "cell_type": "markdown",
   "metadata": {},
   "source": [
    "## Level 2 Processing\n",
    "This section should continue to refine the amount of parsable data. Level 2 deconstructs Paragraphs into individual Character Lines (sentences identified as a character). Image details should also include when the image might be most relevant. For example if an image is shown after Paragarph 3, it may be talked about in Paragraph 2 and discussed until Paragraph 4. This information should be logged so that our system knows when best to display the image."
   ]
  },
  {
   "cell_type": "code",
   "execution_count": null,
   "metadata": {},
   "outputs": [],
   "source": []
  },
  {
   "cell_type": "markdown",
   "metadata": {},
   "source": [
    "## Level 3 Processing\n",
    "In this section, we start to expand what is possible with a regular book and add new features. Level 3 processing identifies when environmental sounds are relevant. For example \"trumpets blared in the distance\" is a sound that could be added to make this book more enjoyable to listeners. "
   ]
  },
  {
   "cell_type": "code",
   "execution_count": null,
   "metadata": {},
   "outputs": [],
   "source": []
  },
  {
   "cell_type": "markdown",
   "metadata": {},
   "source": [
    "## Level 4 Processing\n",
    "This final section turns the book into a script. It adds a large amount of detail about the story at any given point. Identifying scenes, character personalities, character moods, characters goals and objectives, and any other relevant information a producer may need to build the best media book possible."
   ]
  },
  {
   "cell_type": "code",
   "execution_count": null,
   "metadata": {},
   "outputs": [],
   "source": []
  }
 ],
 "metadata": {
  "kernelspec": {
   "display_name": "Javascript (Node.js)",
   "language": "javascript",
   "name": "javascript"
  },
  "language_info": {
   "file_extension": ".js",
   "mimetype": "application/javascript",
   "name": "javascript",
   "version": "10.8.0"
  }
 },
 "nbformat": 4,
 "nbformat_minor": 2
}
